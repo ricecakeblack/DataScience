{
  "nbformat": 4,
  "nbformat_minor": 0,
  "metadata": {
    "colab": {
      "private_outputs": true,
      "provenance": [],
      "authorship_tag": "ABX9TyN2aRhrMXhKbyaugk6vk0zI",
      "include_colab_link": true
    },
    "kernelspec": {
      "name": "python3",
      "display_name": "Python 3"
    },
    "language_info": {
      "name": "python"
    }
  },
  "cells": [
    {
      "cell_type": "markdown",
      "metadata": {
        "id": "view-in-github",
        "colab_type": "text"
      },
      "source": [
        "<a href=\"https://colab.research.google.com/github/ricecakeblack/DataScience/blob/master/function.ipynb\" target=\"_parent\"><img src=\"https://colab.research.google.com/assets/colab-badge.svg\" alt=\"Open In Colab\"/></a>"
      ]
    },
    {
      "cell_type": "markdown",
      "source": [
        "# 함수(fuction)"
      ],
      "metadata": {
        "id": "xqaM1fIZMW6X"
      }
    },
    {
      "cell_type": "markdown",
      "source": [
        "## 목차\n",
        "- 함수의 선언과 호출\n",
        "- parameter, argument\n",
        "- return\n",
        "- `*agrs`, `**lwargs`\n",
        "- docstring\n",
        "- scope\n",
        "- lamda function\n",
        "- map, filter"
      ],
      "metadata": {
        "id": "TMR0rqNrMpJa"
      }
    },
    {
      "cell_type": "markdown",
      "source": [
        "## 함수(func) 개념\n",
        "- 반복적으로 사용하는 코드를 하나의 묶음(code block)으로 처리해서 사용하는 기능\n",
        "- 코드의 유지보수 관리가 용이해진다. (버그가 났을때 고치기가 ㅍ ㅕㄴ해진다)\n",
        "- bulit-in-function\n",
        "- user-defined function"
      ],
      "metadata": {
        "id": "GRuxQXONM6y8"
      }
    },
    {
      "cell_type": "markdown",
      "source": [
        "# 1. 함수 선언과 호출"
      ],
      "metadata": {
        "id": "Z8h2bdHuNcVK"
      }
    },
    {
      "cell_type": "code",
      "source": [
        "# 함수 선언\n",
        "# 파라미터가 없는 함수\n",
        "\n",
        "def my_func():\n",
        "    print('this is func')"
      ],
      "metadata": {
        "id": "LChQX8LnNr_1"
      },
      "execution_count": null,
      "outputs": []
    },
    {
      "cell_type": "code",
      "source": [
        "# 함수 호출\n",
        "my_func()"
      ],
      "metadata": {
        "id": "UjzakJxGN-mV"
      },
      "execution_count": null,
      "outputs": []
    },
    {
      "cell_type": "code",
      "source": [
        "#함수 선언\n",
        "#파라미터가 있는 함수\n",
        "def my_func(value):\n",
        "    print('this is func', value)\n",
        "\n",
        "# 함수 호출\n",
        "my_func('string value')"
      ],
      "metadata": {
        "id": "U0kDDTmyOFkj"
      },
      "execution_count": null,
      "outputs": []
    },
    {
      "cell_type": "code",
      "source": [
        "print('글자')"
      ],
      "metadata": {
        "id": "VXM_u0WjOrfF"
      },
      "execution_count": null,
      "outputs": []
    },
    {
      "cell_type": "code",
      "source": [
        "point = 88\n",
        "# 90점 보다 크면 'A'\n",
        "# 80점보다 크면 'B'\n",
        "# 위 둘다 아니면 'C'"
      ],
      "metadata": {
        "id": "Y7GJkm0ZPQR4"
      },
      "execution_count": null,
      "outputs": []
    },
    {
      "cell_type": "code",
      "source": [
        "if point >= 90:\n",
        "    print('A')\n",
        "elif point >= 80:\n",
        "    print('B')\n",
        "else:\n",
        "    print('C')\n"
      ],
      "metadata": {
        "id": "nXV1DRU8PiwF"
      },
      "execution_count": null,
      "outputs": []
    },
    {
      "cell_type": "code",
      "source": [
        "def Score_ev(point):\n",
        "    if point >= 90:\n",
        "        print('A')\n",
        "    elif point >= 80:\n",
        "        print('B')\n",
        "    else:\n",
        "        print('C')\n",
        "\n",
        "Score_ev(60)"
      ],
      "metadata": {
        "id": "CaJa3i9QQDtd"
      },
      "execution_count": null,
      "outputs": []
    },
    {
      "cell_type": "code",
      "source": [
        "- 함수 이름은 동사 형식인 경우가 많음\n",
        "- calculate_boxplot(), set_password(), make_data()...\n"
      ],
      "metadata": {
        "id": "MS-21QVRQoFH"
      },
      "execution_count": null,
      "outputs": []
    }
  ]
}