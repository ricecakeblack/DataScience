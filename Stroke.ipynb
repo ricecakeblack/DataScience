{
  "nbformat": 4,
  "nbformat_minor": 0,
  "metadata": {
    "colab": {
      "private_outputs": true,
      "provenance": [],
      "authorship_tag": "ABX9TyNNLgwV53TjRTnIkr5fqNdh",
      "include_colab_link": true
    },
    "kernelspec": {
      "name": "python3",
      "display_name": "Python 3"
    },
    "language_info": {
      "name": "python"
    }
  },
  "cells": [
    {
      "cell_type": "markdown",
      "metadata": {
        "id": "view-in-github",
        "colab_type": "text"
      },
      "source": [
        "<a href=\"https://colab.research.google.com/github/ricecakeblack/DataScience/blob/master/Stroke.ipynb\" target=\"_parent\"><img src=\"https://colab.research.google.com/assets/colab-badge.svg\" alt=\"Open In Colab\"/></a>"
      ]
    },
    {
      "cell_type": "code",
      "execution_count": null,
      "metadata": {
        "id": "dSfNIkZeZrzr"
      },
      "outputs": [],
      "source": [
        "from google.colab import drive\n",
        "drive.mount('/content/drive')"
      ]
    },
    {
      "cell_type": "code",
      "source": [
        "import pandas as pd\n",
        "import numpy as np\n",
        "df = pd.read_csv('/content/drive/MyDrive/Colab Notebooks/Stroke/healthcare-dataset-stroke-data2.csv')\n",
        "df.head()"
      ],
      "metadata": {
        "id": "TNxoOntkZyMJ"
      },
      "execution_count": null,
      "outputs": []
    },
    {
      "cell_type": "code",
      "source": [
        "pd.set_option('display.max_columns', None)   # 결과물로 보여주는 열 갯수 최대화\n",
        "pd.set_option('display.max_rows', None)      # 결과물로 보여주는 행 갯수 최대화"
      ],
      "metadata": {
        "id": "AWjsXYLZgG1O"
      },
      "execution_count": null,
      "outputs": []
    },
    {
      "cell_type": "code",
      "source": [
        "#데이터프레임의 행과 열 차원 확인\n",
        "df.shape"
      ],
      "metadata": {
        "id": "tDBlGIppgb54"
      },
      "execution_count": null,
      "outputs": []
    },
    {
      "cell_type": "code",
      "source": [
        "#데이터 정보 확인\n",
        "df.info()"
      ],
      "metadata": {
        "id": "N72eEQItbMGe"
      },
      "execution_count": null,
      "outputs": []
    },
    {
      "cell_type": "code",
      "source": [
        "#ID 변수인 id 데이터 타입 확인.\n",
        "df['id'].dtypes"
      ],
      "metadata": {
        "id": "weJ59vWTdG84"
      },
      "execution_count": null,
      "outputs": []
    },
    {
      "cell_type": "code",
      "source": [
        "#파이썬 변수 id타입 확인\n",
        "type(df['id'])"
      ],
      "metadata": {
        "id": "gFMaGYWifu45"
      },
      "execution_count": null,
      "outputs": []
    },
    {
      "cell_type": "code",
      "source": [
        "df['id'].isnull()"
      ],
      "metadata": {
        "id": "UicAeihXoeyN"
      },
      "execution_count": null,
      "outputs": []
    },
    {
      "cell_type": "code",
      "source": [
        "# ID 변수인 id 값의 결측값 확인\n",
        "df['id'].isnull().sum()"
      ],
      "metadata": {
        "id": "uzHp1nJQfBaQ"
      },
      "execution_count": null,
      "outputs": []
    },
    {
      "cell_type": "code",
      "source": [
        "# ID변수의 중복여부를 체크하기 위해 유일한(unique) 값의 갯수 체크\n",
        "# pd.unique는 유일한 변수값을 출력하고 len은 값의 갯수를 카운트.\n",
        "n = len(pd.unique(df['id']))\n",
        "n"
      ],
      "metadata": {
        "id": "wwxVMq3wfVU6"
      },
      "execution_count": null,
      "outputs": []
    },
    {
      "cell_type": "code",
      "source": [
        "#숫자형태가 아닌 serial num의 갯수 바꿔줌\n",
        "mask= pd.to_numeric(df['id'],errors='coerce').isna()\n",
        "a= mask.sum()\n",
        "a"
      ],
      "metadata": {
        "id": "VG7obP8ugK2h"
      },
      "execution_count": null,
      "outputs": []
    },
    {
      "cell_type": "code",
      "source": [
        "# 타겟변수 데이터 타입 확인\n",
        "df['stroke'].dtypes"
      ],
      "metadata": {
        "id": "3-yiKyPsj8QE"
      },
      "execution_count": null,
      "outputs": []
    },
    {
      "cell_type": "code",
      "source": [
        "# 타겟변수 결측값 확인\n",
        "df['stroke'].isnull().sum()"
      ],
      "metadata": {
        "id": "MQYWOnhblM_S"
      },
      "execution_count": null,
      "outputs": []
    },
    {
      "cell_type": "code",
      "source": [
        "#타겟변수 클래스(0,1 값) 갯수확인\n",
        "df['stroke'].value_counts(dropna=False)"
      ],
      "metadata": {
        "id": "H_E2WK2omN1R"
      },
      "execution_count": null,
      "outputs": []
    },
    {
      "cell_type": "code",
      "source": [
        "#타겟변수 클래스 비율 확인\n",
        "df['stroke'].value_counts(dropna=False, normalize=True)"
      ],
      "metadata": {
        "id": "w-UHhYfqmXiK"
      },
      "execution_count": null,
      "outputs": []
    },
    {
      "cell_type": "code",
      "source": [
        "# 기타 변수 데이터 처리\n",
        "# 구간 변수를 cols에 저장\n",
        "cols = ['age','avg_glucose_level','bmi']\n",
        "\n",
        "# 구간 변수 데이터 타입 확인\n",
        "df[cols].dtypes"
      ],
      "metadata": {
        "id": "cDrLdYrgqZvX"
      },
      "execution_count": null,
      "outputs": []
    },
    {
      "cell_type": "code",
      "source": [
        "#소숫점 2자리로 숫자 표기 제한\n",
        "pd.options.display.float_format = '{:.2f}'.format\n",
        "#구간변수 기초 통계랑 확인\n",
        "df[cols].describe()"
      ],
      "metadata": {
        "id": "DSOzkSW1rIv_"
      },
      "execution_count": null,
      "outputs": []
    },
    {
      "cell_type": "code",
      "source": [
        "# C는 기준(criterion)\n",
        "df['age'] > 18"
      ],
      "metadata": {
        "id": "QCTa7TUTRPk1"
      },
      "execution_count": null,
      "outputs": []
    },
    {
      "cell_type": "code",
      "source": [
        "Grownup = df['age'] > 18\n",
        "df[Grownup].head(3)"
      ],
      "metadata": {
        "id": "GMaKjCIfSd_h"
      },
      "execution_count": null,
      "outputs": []
    },
    {
      "cell_type": "code",
      "source": [
        "len(df[Grownup])"
      ],
      "metadata": {
        "id": "SxW8yEx7SmpL"
      },
      "execution_count": null,
      "outputs": []
    },
    {
      "cell_type": "code",
      "source": [
        "# df에 대비해서 df[Grownup]의 자료 개수(행 기준) 비율.\n",
        "len(df[Grownup])/len(df)"
      ],
      "metadata": {
        "id": "TS-A-v6KSz6y"
      },
      "execution_count": null,
      "outputs": []
    },
    {
      "cell_type": "code",
      "source": [
        "# 데이터프레임 df[Grownup]를 df1에 저장.\n",
        "df1 = df[Grownup]\n",
        "#df1 행과 열 차원 확인.\n",
        "df1.shape"
      ],
      "metadata": {
        "id": "Cqd7ukvDM6b9"
      },
      "execution_count": null,
      "outputs": []
    },
    {
      "cell_type": "code",
      "source": [
        "df1.head()"
      ],
      "metadata": {
        "id": "3P5-6df6NS8F"
      },
      "execution_count": null,
      "outputs": []
    },
    {
      "cell_type": "code",
      "source": [
        "# Residence_type 변수명을 소문자로 시작하게 변경\n",
        "df1 = df1.rename(columns={'Residence_type' : 'residence_type'})"
      ],
      "metadata": {
        "id": "k_fHiTV6NWQU"
      },
      "execution_count": null,
      "outputs": []
    },
    {
      "cell_type": "code",
      "source": [
        "#df1 컬럼명(변수명)확인.\n",
        "df1.columns"
      ],
      "metadata": {
        "id": "pcuC7iUBNuSZ"
      },
      "execution_count": null,
      "outputs": []
    },
    {
      "cell_type": "code",
      "source": [
        "#범주형 변수를 cols1에 저장.\n",
        "categorical = ['gender','hypertension', 'heart_disease', 'ever_married',\n",
        "       'work_type', 'residence_type', 'smoking_status']\n",
        "# 범주형 변수 결측값 확인.\n",
        "df1[categorical].isnull().sum()"
      ],
      "metadata": {
        "id": "fYy6Fk7qNxK5"
      },
      "execution_count": null,
      "outputs": []
    },
    {
      "cell_type": "code",
      "source": [
        "#범주형 변수 데이터 타입 확인.\n",
        "df1[categorical].dtypes"
      ],
      "metadata": {
        "id": "r03l4bs-NxFK"
      },
      "execution_count": null,
      "outputs": []
    },
    {
      "cell_type": "markdown",
      "source": [
        "### 지금까지 데이터 처리한 데이터프레임 df1을 health-dataset-1.csv 파일로 저장"
      ],
      "metadata": {
        "id": "u__2py_ANxBy"
      }
    },
    {
      "cell_type": "code",
      "source": [
        "df1.to_csv('/content/drive/MyDrive/Colab Notebooks/Stroke/health-dataset-1.csv',index = False)"
      ],
      "metadata": {
        "id": "RGL0TtmKPQ5e"
      },
      "execution_count": null,
      "outputs": []
    },
    {
      "cell_type": "code",
      "source": [
        "#결측값 50% 초과변수 제거(결측값을 갖고 있는 변수명(컬럼명) 찾기.\n",
        "df1.isna().any()"
      ],
      "metadata": {
        "id": "gO2p6A6NPzlH"
      },
      "execution_count": null,
      "outputs": []
    },
    {
      "cell_type": "code",
      "source": [
        "# 결측치가 있는 컬럼명만 찾기(lamda)\n",
        "df1.isna().any()[lambda x : x]"
      ],
      "metadata": {
        "id": "HmlM7pusTMEP"
      },
      "execution_count": null,
      "outputs": []
    },
    {
      "cell_type": "code",
      "source": [
        "# 결측값을 갖고 있는 변수명(컬럼명)찾기를 또 다른 코딩으로 실행.\n",
        "df1.isna().any()"
      ],
      "metadata": {
        "id": "TAeUxlGdh0j-"
      },
      "execution_count": null,
      "outputs": []
    },
    {
      "cell_type": "code",
      "source": [
        "# bmi의 결측값 비율 확인.\n",
        "df1['bmi'].isnull().mean()"
      ],
      "metadata": {
        "id": "nUapiLzFTQ97"
      },
      "execution_count": null,
      "outputs": []
    },
    {
      "cell_type": "markdown",
      "source": [
        "### 요약통계 및 도수분포표 점검"
      ],
      "metadata": {
        "id": "QgkLNDqxg50b"
      }
    },
    {
      "cell_type": "code",
      "source": [
        "# 구간 변수를 interval에 저장\n",
        "interval = ['age', 'avg_glucose_level', 'bmi']\n",
        "\n",
        "# 구간(interval)변수의 요약통계 구하기.\n",
        "df1[interval].describe()"
      ],
      "metadata": {
        "id": "vrsAey00iKc_"
      },
      "execution_count": null,
      "outputs": []
    },
    {
      "cell_type": "code",
      "source": [
        "# df1 왜도 점검.(왼쪽으로 기울어져있는지, 오른쪽으로 기울어져있는지) +_3을 넘지않으면 ㄱㅊ 분포가 쏠리지 않음\n",
        "df1[interval].skew()"
      ],
      "metadata": {
        "id": "H4T51hZuik3a"
      },
      "execution_count": null,
      "outputs": []
    },
    {
      "cell_type": "code",
      "source": [
        "# df1 첨도 점검. (+_ 10만 넘지 않으면 ㄱㅊ)\n",
        "df1[interval].kurtosis()"
      ],
      "metadata": {
        "id": "2o7xjBSGjAA3"
      },
      "execution_count": null,
      "outputs": []
    },
    {
      "cell_type": "code",
      "source": [
        "# work_type 변수값 갯수 확인.\n",
        "df1['work_type'].value_counts(dropna = False)"
      ],
      "metadata": {
        "id": "J7m8aFcijJAp"
      },
      "execution_count": null,
      "outputs": []
    },
    {
      "cell_type": "code",
      "source": [
        "#frequency table 생성(개수 기준).\n",
        "pd.crosstab(df1['work_type'], columns= 'count')"
      ],
      "metadata": {
        "id": "6m3JNkvhkHJe"
      },
      "execution_count": null,
      "outputs": []
    },
    {
      "cell_type": "code",
      "source": [
        "#frequency table 생성(비율 기준).\n",
        "pd.crosstab(df1['work_type'], columns= 'ratio', normalize= True)"
      ],
      "metadata": {
        "id": "dxqdK7cOkczP"
      },
      "execution_count": null,
      "outputs": []
    },
    {
      "cell_type": "code",
      "source": [
        "# frequency table 생성(비율 기준).\n",
        "pd.crosstab(df1['work_type'], columns = 'ratio', normalize = True)"
      ],
      "metadata": {
        "id": "nVkSoExGkszG"
      },
      "execution_count": null,
      "outputs": []
    },
    {
      "cell_type": "code",
      "source": [
        "# frequency table을 타겟변수인 stroke 값에 따라 생성(비율 기준)\n",
        "pd.crosstab(df1['work_type'], df1['stroke'], normalize =True)"
      ],
      "metadata": {
        "id": "qW1vD-SWlAwQ"
      },
      "execution_count": null,
      "outputs": []
    },
    {
      "cell_type": "markdown",
      "source": [
        "### 이상값 제거"
      ],
      "metadata": {
        "id": "ontCGAJqlfvC"
      }
    },
    {
      "cell_type": "code",
      "source": [
        "#구간 변수 분포 히스토그램 그리기.\n",
        "import matplotlib.pyplot as plt\n",
        "import seaborn as sns\n",
        "\n",
        "#subplot(1행 3열의 그래프)\n",
        "fig, axes = plt.subplots(1,3, figsize=(15,4))\n",
        "\n",
        "sns.histplot(ax=axes[0], data = df1, x = \"age\", kde= True, bins =20);\n",
        "sns.histplot(ax=axes[1], data = df1, x = \"avg_glucose_level\", kde= True, bins =20);\n",
        "sns.histplot(ax=axes[2], data = df1, x = \"bmi\", kde= True, bins =20);\n",
        "plt.show()"
      ],
      "metadata": {
        "id": "_nxGuM81mYDz"
      },
      "execution_count": null,
      "outputs": []
    },
    {
      "cell_type": "code",
      "source": [
        "# 구간 변수 분포 상자 그림그리기.\n",
        "sns.set_style('whitegrid')\n",
        "fig, axes = plt.subplots(1,3, figsize= (15,4))\n",
        "\n",
        "sns.boxplot(ax=axes[0], x = 'age', data = df1)\n",
        "sns.boxplot(ax=axes[1], x = 'avg_glucose_level', data = df1)\n",
        "sns.boxplot(ax=axes[2], x = 'bmi', data = df1)\n"
      ],
      "metadata": {
        "id": "OpJJl6IVq5UE"
      },
      "execution_count": null,
      "outputs": []
    },
    {
      "cell_type": "code",
      "source": [
        "# 구간변수 IQR(Inter Quartile Range) 구하기.\n",
        "\n",
        "Q1 = df1[['age','avg_glucose_level','bmi']].quantile(0.25)\n",
        "Q3 = df1[['age','avg_glucose_level','bmi']].quantile(0.75)\n",
        "IQR = Q3 - Q1\n",
        "print(IQR)"
      ],
      "metadata": {
        "id": "hxCIpVHn0ecM"
      },
      "execution_count": null,
      "outputs": []
    },
    {
      "cell_type": "code",
      "source": [
        "# IQR 3.0 규칙에 의한 상한과 하한 구하기.\n",
        "\n",
        "Lower = Q1-3.0*IQR\n",
        "Upper = Q3+3.0*IQR\n",
        "\n",
        "#하한 출력\n",
        "print(Lower)"
      ],
      "metadata": {
        "id": "QhR4WEztUboy"
      },
      "execution_count": null,
      "outputs": []
    },
    {
      "cell_type": "code",
      "source": [
        "print(Upper)"
      ],
      "metadata": {
        "id": "cAXEILhTWwod"
      },
      "execution_count": null,
      "outputs": []
    },
    {
      "cell_type": "code",
      "source": [
        "Q1.describe()"
      ],
      "metadata": {
        "id": "4WPL4us-W1Df"
      },
      "execution_count": null,
      "outputs": []
    },
    {
      "cell_type": "code",
      "source": [
        "Q3.describe()"
      ],
      "metadata": {
        "id": "96EApPCPZLbl"
      },
      "execution_count": null,
      "outputs": []
    },
    {
      "cell_type": "code",
      "source": [],
      "metadata": {
        "id": "LG9gBPIPZbi9"
      },
      "execution_count": null,
      "outputs": []
    }
  ]
}