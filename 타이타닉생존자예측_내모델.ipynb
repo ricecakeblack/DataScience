{
  "nbformat": 4,
  "nbformat_minor": 0,
  "metadata": {
    "colab": {
      "private_outputs": true,
      "provenance": [],
      "authorship_tag": "ABX9TyNXTau+GMonJ6TbJANkBtld",
      "include_colab_link": true
    },
    "kernelspec": {
      "name": "python3",
      "display_name": "Python 3"
    },
    "language_info": {
      "name": "python"
    }
  },
  "cells": [
    {
      "cell_type": "markdown",
      "metadata": {
        "id": "view-in-github",
        "colab_type": "text"
      },
      "source": [
        "<a href=\"https://colab.research.google.com/github/ricecakeblack/DataScience/blob/master/%ED%83%80%EC%9D%B4%ED%83%80%EB%8B%89%EC%83%9D%EC%A1%B4%EC%9E%90%EC%98%88%EC%B8%A1_%EB%82%B4%EB%AA%A8%EB%8D%B8.ipynb\" target=\"_parent\"><img src=\"https://colab.research.google.com/assets/colab-badge.svg\" alt=\"Open In Colab\"/></a>"
      ]
    },
    {
      "cell_type": "code",
      "execution_count": null,
      "metadata": {
        "id": "35TtxA-I1dAi"
      },
      "outputs": [],
      "source": [
        "from google.colab import drive\n",
        "drive.mount('/content/drive')"
      ]
    },
    {
      "cell_type": "code",
      "source": [
        "!sudo apt-get install -y fonts-nanum\n",
        "!sudo fc-cache -fv\n",
        "!rm ~/.cache/matplotlib -rf"
      ],
      "metadata": {
        "id": "JxRb61n72FY8"
      },
      "execution_count": null,
      "outputs": []
    },
    {
      "cell_type": "code",
      "source": [
        "#폰트설정\n",
        "plt.rc('font', family='NanumBarunGothic')\n"
      ],
      "metadata": {
        "id": "z5lifZci2Ji1"
      },
      "execution_count": null,
      "outputs": []
    },
    {
      "cell_type": "code",
      "source": [
        "#csv파일\n",
        "traincCSV = '/content/drive/MyDrive/구글클라우드/수업(코드)/scikit-learn/data/titanic/train.csv'\n",
        "testCSV = '/content/drive/MyDrive/구글클라우드/수업(코드)/scikit-learn/data/titanic/test.csv'\n"
      ],
      "metadata": {
        "id": "a8ysB87T2gTH"
      },
      "execution_count": null,
      "outputs": []
    },
    {
      "cell_type": "code",
      "source": [
        "#기본 패키지 불러오기\n",
        "import numpy as np\n",
        "import pandas as pd\n",
        "import matplotlib.pyplot as plt\n",
        "import seaborn as sns\n",
        "%matplotlib inline\n",
        "\n",
        "\n",
        "#csv파일 불러오기\n",
        "train_df= pd.read_csv(traincCSV)\n",
        "train_df.info()"
      ],
      "metadata": {
        "id": "raQ2cSsL3A21"
      },
      "execution_count": null,
      "outputs": []
    },
    {
      "cell_type": "code",
      "source": [
        "train_df.head()"
      ],
      "metadata": {
        "id": "mAtbeRE13bUP"
      },
      "execution_count": null,
      "outputs": []
    },
    {
      "cell_type": "code",
      "source": [
        "# 1. 결측치처리(평균값 넣어주가)\n",
        "age_mean = train_df['Age'].mean()"
      ],
      "metadata": {
        "id": "-uYCM0Pw4Kb1"
      },
      "execution_count": null,
      "outputs": []
    },
    {
      "cell_type": "code",
      "source": [
        "# 결측치처리(평균값으로 넣기)\n",
        "train_df['Age'].fillna(age_mean, inplace= True)"
      ],
      "metadata": {
        "id": "ALnACgBM4tGp"
      },
      "execution_count": null,
      "outputs": []
    },
    {
      "cell_type": "code",
      "source": [
        " # 결측치가 더이상 없는지 확인\n",
        " train_df['Age'].isnull().sum"
      ],
      "metadata": {
        "id": "HnbWt-FE4SBj"
      },
      "execution_count": null,
      "outputs": []
    },
    {
      "cell_type": "code",
      "source": [
        "train_df.info()"
      ],
      "metadata": {
        "id": "w-L7lKN14pk7"
      },
      "execution_count": null,
      "outputs": []
    },
    {
      "cell_type": "code",
      "source": [
        "# 항구 최빈값으로 채우기\n",
        "train_df['Embarked'].fillna(train_df['Embarked'].mode()[0], inplace = True)\n",
        "train_df['Embarked'].isnull().sum()"
      ],
      "metadata": {
        "id": "egE9NSiq4_t9"
      },
      "execution_count": null,
      "outputs": []
    },
    {
      "cell_type": "code",
      "source": [
        "train_df.info()"
      ],
      "metadata": {
        "id": "cZe5n17B5Wdd"
      },
      "execution_count": null,
      "outputs": []
    },
    {
      "cell_type": "code",
      "source": [
        "#cabin삭제\n",
        "train_df.drop(labels = 'Cabin', axis= 1, inplace = True)"
      ],
      "metadata": {
        "id": "3839iFla5wlM"
      },
      "execution_count": null,
      "outputs": []
    },
    {
      "cell_type": "code",
      "source": [
        "train_df.info()"
      ],
      "metadata": {
        "id": "U3uuraVx6Hv8"
      },
      "execution_count": null,
      "outputs": []
    },
    {
      "cell_type": "code",
      "source": [
        "# 성별을 글자로 뒀을떄와 숫자로 뒀을떄 차이\n",
        "# 데이터 셋을 훈련과 테스트로 나누기\n"
      ],
      "metadata": {
        "id": "mlqT4vaL6U5i"
      },
      "execution_count": null,
      "outputs": []
    },
    {
      "cell_type": "code",
      "source": [
        "from sklearn.preprocessing import LabelEncoder\n",
        "# 1. 레이블 엔코더 객체 생성\n",
        "le = LabelEncoder()\n",
        "# 2. fit_transform으로 데이터 변환\n",
        "train_df['Sex'] = le.fit_transform(train_df['Sex'])"
      ],
      "metadata": {
        "id": "vhXtjav7LZgo"
      },
      "execution_count": null,
      "outputs": []
    },
    {
      "cell_type": "code",
      "source": [
        "train_df['Age_cat'] = pd.cut(train_df['Age'],\n",
        "                             bins=[0, 3, 7, 15, 30, 60, 100],\n",
        "                             include_lowest=True,\n",
        "                             labels=['baby', 'children', 'teenage',\n",
        "                                     'young', 'adult', 'old'])\n",
        "train_df.head()"
      ],
      "metadata": {
        "id": "C_YgQvnfLdaX"
      },
      "execution_count": null,
      "outputs": []
    },
    {
      "cell_type": "markdown",
      "source": [
        "### 'male'과 'Female' 문자열은 학습이 불가능하여 타입 변환"
      ],
      "metadata": {
        "id": "1PyQyV0dMCTD"
      }
    },
    {
      "cell_type": "code",
      "source": [
        "from sklearn.preprocessing import LabelEncoder\n",
        "# 1. 레이블 엔코더 객체 생성\n",
        "le = LabelEncoder()\n",
        "# 2. fit_transform으로 데이터 변환\n",
        "train_df['Age_cat'] = le.fit_transform(train_df['Age_cat'])"
      ],
      "metadata": {
        "id": "5GGfqBAQLgbn"
      },
      "execution_count": null,
      "outputs": []
    },
    {
      "cell_type": "code",
      "source": [
        "train_df.info()"
      ],
      "metadata": {
        "id": "Ec1pUksVLtld"
      },
      "execution_count": null,
      "outputs": []
    },
    {
      "cell_type": "code",
      "source": [
        "# 훈련에 사용할 컬럼 골라내기\n",
        "# 데이터셋을 훈련과 테스트로 나누기\n",
        "# 모델 설정 (Logistic Regression, Decision Tree, SVC)\n",
        "# 모델 학습\n",
        "# 모델 평가하기\n",
        "# confusion matrix\n",
        "# accuracy, recall, precision, F1"
      ],
      "metadata": {
        "id": "pzn8OQ5ULzyy"
      },
      "execution_count": null,
      "outputs": []
    },
    {
      "cell_type": "code",
      "source": [
        "#상관계수 확인후 생존자와 관련있는 컬럼 확인('Pclass', 'Age', 'SibSp', 'Parch', 'Fare')\n",
        "train_df.corr()"
      ],
      "metadata": {
        "id": "zbBQV8nb8p7S"
      },
      "execution_count": null,
      "outputs": []
    },
    {
      "cell_type": "code",
      "source": [
        "#컬럼을 데이터프레임으로 만들기(위에서 선택한 리스트 컬럼만 골라서 새로 데이터 프레임 생성)\n",
        "selList= ['Pclass', 'Age', 'SibSp', 'Parch', 'Fare', 'Sex', 'Survived']\n",
        "sel_df = train_df[selList]\n",
        "sel_df"
      ],
      "metadata": {
        "id": "WKjnG1rP88JK"
      },
      "execution_count": null,
      "outputs": []
    },
    {
      "cell_type": "code",
      "source": [
        "# 데이터셋 나누기\n",
        "from sklearn.model_selection import train_test_split\n",
        "\n",
        "test_size = 0.2\n",
        "x_train, x_test, y_train, y_test = train_test_split(sel_df.drop(['Survived'],axis=1), sel_df['Survived'], test_size=test_size, random_state=123, stratify=sel_df['Survived'])"
      ],
      "metadata": {
        "id": "HmwUoAJR66VV"
      },
      "execution_count": null,
      "outputs": []
    },
    {
      "cell_type": "code",
      "source": [
        "x_train.shape, x_test.shape"
      ],
      "metadata": {
        "id": "-L-o3QRE8ULk"
      },
      "execution_count": null,
      "outputs": []
    },
    {
      "cell_type": "code",
      "source": [
        "# 모델 설정 (Logistic Regression)\n",
        "# Logistic Regression\n",
        "from sklearn.linear_model import LogisticRegression\n",
        "\n",
        "# step 1. 모델 객체 생성\n",
        "model = LogisticRegression()\n",
        "\n",
        "# STEP 2. 모델 학습\n",
        "model.fit(x_train, y_train)\n",
        "\n",
        "# STEP 3. 모델 예측\n",
        "y_pred = model.predict(x_test)"
      ],
      "metadata": {
        "id": "_Ie8WrOR8i6s"
      },
      "execution_count": null,
      "outputs": []
    },
    {
      "cell_type": "code",
      "source": [
        "import matplotlib.pyplot as plt\n",
        "\n",
        "# Logisitic Regression 성능 평가\n",
        "from sklearn.metrics import confusion_matrix\n",
        "\n",
        "sns.heatmap(confusion_matrix(y_test,y_pred), annot=True, cmap='Reds')\n",
        "plt.xlabel('predict')\n",
        "plt.ylabel('actual')"
      ],
      "metadata": {
        "id": "Kyeo8xfe-SsH"
      },
      "execution_count": null,
      "outputs": []
    },
    {
      "cell_type": "code",
      "source": [
        "from sklearn.metrics import accuracy_score, precision_score, recall_score, f1_score\n",
        "\n",
        "print(accuracy_score(y_test, y_pred))\n",
        "print(precision_score(y_test, y_pred, average='micro'))\n",
        "print(recall_score(y_test, y_pred, average='micro'))\n",
        "print(f1_score(y_test, y_pred, average='micro'))"
      ],
      "metadata": {
        "id": "D2RuS4rd_1IZ"
      },
      "execution_count": null,
      "outputs": []
    },
    {
      "cell_type": "code",
      "source": [
        "# KNC\n",
        "from sklearn.neighbors import KNeighborsClassifier\n",
        "\n",
        "# step 1. 모델 객체 생성\n",
        "model = KNeighborsClassifier()\n",
        "\n",
        "# STEP 2. 모델 학습\n",
        "model.fit(x_train, y_train)\n",
        "\n",
        "# STEP 3. 모델 예측\n",
        "y_pred = model.predict(x_test)"
      ],
      "metadata": {
        "id": "cCTtCz-nAFIR"
      },
      "execution_count": null,
      "outputs": []
    },
    {
      "cell_type": "code",
      "source": [
        "sns.heatmap(confusion_matrix(y_test,y_pred), annot=True, cmap='Reds')\n",
        "plt.xlabel('predict')\n",
        "plt.ylabel('actual')"
      ],
      "metadata": {
        "id": "Si0Ela4cPdFT"
      },
      "execution_count": null,
      "outputs": []
    },
    {
      "cell_type": "code",
      "source": [
        "print(\"KNC 모델\")\n",
        "print(accuracy_score(y_test, y_pred))\n",
        "print(precision_score(y_test, y_pred, average='micro'))\n",
        "print(recall_score(y_test, y_pred, average='micro'))\n",
        "print(f1_score(y_test, y_pred, average='micro'))"
      ],
      "metadata": {
        "id": "eAV61w7fQB60"
      },
      "execution_count": null,
      "outputs": []
    },
    {
      "cell_type": "code",
      "source": [
        "# Decision Tree\n",
        "from sklearn.tree import DecisionTreeClassifier\n",
        "\n",
        "# step 1. 모델 객체 생성\n",
        "model = DecisionTreeClassifier()\n",
        "\n",
        "# STEP 2. 모델 학습\n",
        "model.fit(x_train, y_train)\n",
        "\n",
        "# STEP 3. 모델 예측\n",
        "y_pred = model.predict(x_test)"
      ],
      "metadata": {
        "id": "_P6zSmSnQHiD"
      },
      "execution_count": null,
      "outputs": []
    },
    {
      "cell_type": "code",
      "source": [
        "sns.heatmap(confusion_matrix(y_test,y_pred), annot=True, cmap='Reds')\n",
        "plt.xlabel('predict')\n",
        "plt.ylabel('actual')"
      ],
      "metadata": {
        "id": "NitDWPhNQJR5"
      },
      "execution_count": null,
      "outputs": []
    },
    {
      "cell_type": "code",
      "source": [
        "print(\"Decision Tree 모델\")\n",
        "print(accuracy_score(y_test, y_pred))\n",
        "print(precision_score(y_test, y_pred, average='micro'))\n",
        "print(recall_score(y_test, y_pred, average='micro'))\n",
        "print(f1_score(y_test, y_pred, average='micro'))"
      ],
      "metadata": {
        "id": "GSJBEmWxQKtD"
      },
      "execution_count": null,
      "outputs": []
    },
    {
      "cell_type": "code",
      "source": [
        "from sklearn.tree import export_graphviz\n",
        "from subprocess import call\n",
        "\n",
        "def graph_tree(model):\n",
        "    # .dot 파일로 export 해줍니다\n",
        "    export_graphviz(model, out_file='tree.dot')\n",
        "\n",
        "    # 생성된 .dot 파일을 .png로 변환\n",
        "\n",
        "    call(['dot', '-Tpng', 'tree.dot', '-o', 'decistion-tree.png', '-Gdpi=600'])\n",
        "\n",
        "    # .png 출력\n",
        "    return Image(filename = 'decistion-tree.png', width=500)"
      ],
      "metadata": {
        "id": "TI-uoUWxQN7K"
      },
      "execution_count": null,
      "outputs": []
    },
    {
      "cell_type": "code",
      "source": [
        "from IPython.display import Image\n",
        "\n",
        "graph_tree(model)"
      ],
      "metadata": {
        "id": "D6RDrd17QQhK"
      },
      "execution_count": null,
      "outputs": []
    },
    {
      "cell_type": "code",
      "source": [],
      "metadata": {
        "id": "32gWvJ7UQSaQ"
      },
      "execution_count": null,
      "outputs": []
    }
  ]
}